{
 "cells": [
  {
   "cell_type": "code",
   "execution_count": 1,
   "metadata": {},
   "outputs": [
    {
     "name": "stderr",
     "output_type": "stream",
     "text": [
      "C:\\Users\\Sid\\Anaconda3\\lib\\site-packages\\sklearn\\ensemble\\weight_boosting.py:29: DeprecationWarning: numpy.core.umath_tests is an internal NumPy module and should not be imported. It will be removed in a future NumPy release.\n",
      "  from numpy.core.umath_tests import inner1d\n",
      "C:\\Users\\Sid\\Anaconda3\\lib\\site-packages\\sklearn\\cross_validation.py:41: DeprecationWarning: This module was deprecated in version 0.18 in favor of the model_selection module into which all the refactored classes and functions are moved. Also note that the interface of the new CV iterators are different from that of this module. This module will be removed in 0.20.\n",
      "  \"This module will be removed in 0.20.\", DeprecationWarning)\n",
      "[nltk_data] Downloading package stopwords to\n",
      "[nltk_data]     C:\\Users\\Sid\\AppData\\Roaming\\nltk_data...\n",
      "[nltk_data]   Package stopwords is already up-to-date!\n",
      "[nltk_data] Downloading package punkt to\n",
      "[nltk_data]     C:\\Users\\Sid\\AppData\\Roaming\\nltk_data...\n",
      "[nltk_data]   Package punkt is already up-to-date!\n",
      "[nltk_data] Downloading package wordnet to\n",
      "[nltk_data]     C:\\Users\\Sid\\AppData\\Roaming\\nltk_data...\n",
      "[nltk_data]   Package wordnet is already up-to-date!\n",
      "[nltk_data] Downloading package averaged_perceptron_tagger to\n",
      "[nltk_data]     C:\\Users\\Sid\\AppData\\Roaming\\nltk_data...\n",
      "[nltk_data]   Package averaged_perceptron_tagger is already up-to-\n",
      "[nltk_data]       date!\n"
     ]
    },
    {
     "name": "stdout",
     "output_type": "stream",
     "text": [
      "Requirement already satisfied: lexicalrichness in c:\\users\\sid\\anaconda3\\lib\\site-packages (0.1.3)\n",
      "Requirement already satisfied: scipy>=1.0.0 in c:\\users\\sid\\anaconda3\\lib\\site-packages (from lexicalrichness) (1.1.0)\n"
     ]
    },
    {
     "name": "stderr",
     "output_type": "stream",
     "text": [
      "WARNING: You are using pip version 20.2.1; however, version 20.2.2 is available.\n",
      "You should consider upgrading via the 'c:\\users\\sid\\anaconda3\\python.exe -m pip install --upgrade pip' command.\n"
     ]
    }
   ],
   "source": [
    "# Import all necessary libraries and packages\n",
    "import pandas as pd\n",
    "import numpy as np\n",
    "from nltk.tokenize import word_tokenize\n",
    "from nltk import pos_tag\n",
    "from nltk.corpus import stopwords\n",
    "from nltk.stem import WordNetLemmatizer\n",
    "from sklearn.preprocessing import LabelEncoder\n",
    "from collections import defaultdict\n",
    "from nltk.corpus import wordnet as wn\n",
    "from sklearn.feature_extraction.text import CountVectorizer, TfidfVectorizer, TfidfTransformer\n",
    "from sklearn import model_selection, naive_bayes, svm\n",
    "from sklearn.metrics import accuracy_score, precision_score,f1_score,recall_score, confusion_matrix, classification_report\n",
    "from sklearn.linear_model import LogisticRegression, SGDClassifier\n",
    "from sklearn.svm import SVC, LinearSVC\n",
    "from sklearn.ensemble import RandomForestClassifier\n",
    "from sklearn.cross_validation import cross_val_score\n",
    "import re\n",
    "import nltk\n",
    "import statistics\n",
    "\n",
    "nltk.download('stopwords')\n",
    "nltk.download('punkt')\n",
    "nltk.download('wordnet')\n",
    "nltk.download('averaged_perceptron_tagger')\n",
    "!pip install lexicalrichness\n",
    "from lexicalrichness import LexicalRichness\n",
    "import re, itertools\n",
    "import nltk\n",
    "from nltk.corpus import stopwords"
   ]
  },
  {
   "cell_type": "code",
   "execution_count": 2,
   "metadata": {},
   "outputs": [],
   "source": [
    "data = pd.read_csv(\"C:/Users/Sid/Downloads/Final-Practicum-Dataset.csv\")"
   ]
  },
  {
   "cell_type": "code",
   "execution_count": 3,
   "metadata": {},
   "outputs": [],
   "source": [
    "Tfidf_vect = TfidfVectorizer(ngram_range = (1,2))\n",
    "tfidfconverter = Tfidf_vect.fit_transform(data['Cleaned Comment'])\n",
    "tfIdf_scores = (tfidfconverter.toarray())"
   ]
  },
  {
   "cell_type": "code",
   "execution_count": 4,
   "metadata": {},
   "outputs": [],
   "source": [
    "Train_X, Test_X, Train_Y, Test_Y = model_selection.train_test_split(tfIdf_scores,data['Intention'],test_size=0.2)"
   ]
  },
  {
   "cell_type": "code",
   "execution_count": null,
   "metadata": {},
   "outputs": [],
   "source": [
    "#Linear SVC\n",
    "LSVM = LinearSVC()\n",
    "modellsvm = LSVM.fit(Train_X,Train_Y)\n",
    "predictions_SVM = modellsvm.predict(Test_X)\n",
    "print(\"Linear SVM Accuracy Score -> \",accuracy_score(predictions_SVM, Test_Y)*100)\n",
    "print(\"Linear SVM Precision Score -> \",precision_score(predictions_SVM, Test_Y)*100)\n",
    "print(\"Linear SVM Recall Score -> \",recall_score(predictions_SVM, Test_Y)*100)\n",
    "print(\"Linear SVM F1 Score -> \",f1_score(predictions_SVM, Test_Y)*100)\n",
    "print(\"Linear SVM Cross Validation Score -> \",cross_val_score(modellsvm, Train_X,Train_Y, cv = 10).mean() * 100)"
   ]
  },
  {
   "cell_type": "code",
   "execution_count": null,
   "metadata": {},
   "outputs": [],
   "source": [
    "import seaborn as sns\n",
    "print ('Confusion Matrix :')\n",
    "results = confusion_matrix(Test_Y, predictions_SVM) \n",
    "print(results) \n",
    "print ('Classification Report:')\n",
    "print (classification_report(Test_Y, predictions_SVM) )\n",
    "sns.heatmap(results, annot=True, cmap='Blues', fmt='g')"
   ]
  },
  {
   "cell_type": "code",
   "execution_count": 6,
   "metadata": {},
   "outputs": [
    {
     "data": {
      "image/png": "[encoded data removed]",
      "text/plain": [
       "<Figure size 432x288 with 1 Axes>"
      ]
     },
     "metadata": {},
     "output_type": "display_data"
    }
   ],
   "source": [
    "from sklearn.metrics import roc_curve, auc\n",
    "import pylab as pl\n",
    "LSVM = LinearSVC()\n",
    "LSVM.fit(Train_X,Train_Y)\n",
    "probas_ = LSVM._predict_proba_lr(Test_X)\n",
    "fpr, tpr, thresholds = roc_curve(Test_Y, probas_[:, 1])\n",
    "roc_auc = auc(fpr, tpr)\n",
    "pl.clf()\n",
    "pl.plot(fpr, tpr, label='ROC curve (area = %0.2f)' % roc_auc)\n",
    "pl.plot([0, 1], [0, 1], 'k--')\n",
    "pl.xlim([0.0, 1.0])\n",
    "pl.ylim([0.0, 1.0])\n",
    "pl.xlabel('False Positive Rate')\n",
    "pl.ylabel('True Positive Rate')\n",
    "pl.title('Receiver operating characteristic curve')\n",
    "pl.legend(loc=\"lower right\")\n",
    "pl.show()"
   ]
  },
  {
   "cell_type": "code",
   "execution_count": null,
   "metadata": {},
   "outputs": [],
   "source": [
    "#LOGISTIC REGRESSION\n",
    "lr = LogisticRegression(solver='liblinear',multi_class='ovr')\n",
    "modellr = lr.fit(Train_X, Train_Y)\n",
    "predictions_lr = modellr.predict(Test_X)\n",
    "print(\"Logistic Regression Accuracy Score -> \",accuracy_score(predictions_lr, Test_Y)*100)\n",
    "print(\"Logistic Regression Precision Score -> \",precision_score(predictions_lr, Test_Y)*100)\n",
    "print(\"Logistic Regression Recall Score -> \",recall_score(predictions_lr, Test_Y)*100)\n",
    "print(\"Logistic Regression F1 Score -> \",f1_score(predictions_lr, Test_Y)*100)\n",
    "print(\"Logistic Regression Cross Validation Score -> \",cross_val_score(modellr, Train_X,Train_Y, cv = 10).mean() * 100)"
   ]
  },
  {
   "cell_type": "code",
   "execution_count": null,
   "metadata": {},
   "outputs": [],
   "source": [
    "#SVM\n",
    "SVM = SVC(kernel='linear')\n",
    "modelsvm = SVM.fit(Train_X,Train_Y)\n",
    "predictions_SVM = modelsvm.predict(Test_X)\n",
    "print(\"SVM Accuracy Score -> \",accuracy_score(predictions_SVM, Test_Y)*100)\n",
    "print(\"SVM Precision Score -> \",precision_score(predictions_SVM, Test_Y)*100)\n",
    "print(\"SVM Recall Score -> \",recall_score(predictions_SVM, Test_Y)*100)\n",
    "print(\"SVM F1 Score -> \",f1_score(predictions_SVM, Test_Y)*100)\n",
    "print(\"SVM Cross Validation Score -> \",cross_val_score(modelsvm, Train_X,Train_Y, cv = 10).mean() * 100)"
   ]
  },
  {
   "cell_type": "code",
   "execution_count": null,
   "metadata": {},
   "outputs": [],
   "source": [
    "#RANDOM FOREST\n",
    "rf = RandomForestClassifier(n_estimators=950) #explore parameters\n",
    "modelrf = rf.fit(Train_X, Train_Y)\n",
    "predictions_rf = modelrf.predict(Test_X)\n",
    "print(\"Random Forest Accuracy Score -> \",accuracy_score(predictions_rf, Test_Y)*100)\n",
    "print(\"Random Forest Precision Score -> \",precision_score(predictions_rf, Test_Y)*100)\n",
    "print(\"Random Forest Recall Score -> \",recall_score(predictions_rf, Test_Y)*100)\n",
    "print(\"Random Forest F1 Score -> \",f1_score(predictions_rf, Test_Y)*100)\n",
    "print(\"Random Forest Cross Validation Score -> \",cross_val_score(modelrf, Train_X,Train_Y, cv = 10).mean() * 100)"
   ]
  },
  {
   "cell_type": "code",
   "execution_count": null,
   "metadata": {},
   "outputs": [],
   "source": [
    "#Naive Bayes\n",
    "Naive = naive_bayes.MultinomialNB()\n",
    "modelnb = Naive.fit(Train_X,Train_Y)\n",
    "predictions_NB = modelnb.predict(Test_X)\n",
    "print(\"Naive Bayes Accuracy Score -> \",accuracy_score(predictions_NB, Test_Y)*100)\n",
    "print(\"Naive Bayes Precision Score -> \",precision_score(predictions_NB, Test_Y)*100)\n",
    "print(\"Naive Bayes Recall Score -> \",recall_score(predictions_NB, Test_Y)*100)\n",
    "print(\"Naive Bayes F1 Score -> \",f1_score(predictions_NB, Test_Y)*100)\n",
    "print(\"Naive Bayes Cross Validation Score -> \",cross_val_score(modelnb, Train_X,Train_Y, cv = 10).mean() * 100)"
   ]
  },
  {
   "cell_type": "code",
   "execution_count": null,
   "metadata": {},
   "outputs": [],
   "source": [
    "#Stochastic Gradient Descent - SVM\n",
    "SGD = SGDClassifier(loss=\"hinge\", max_iter=5)\n",
    "modellsgd = SGD.fit(Train_X,Train_Y)\n",
    "predictions_SGD = modellsgd.predict(Test_X)\n",
    "print(\"SGD Accuracy Score -> \",accuracy_score(predictions_SGD, Test_Y)*100)\n",
    "print(\"SGD Precision Score -> \",precision_score(predictions_SGD, Test_Y)*100)\n",
    "print(\"SGD Recall Score -> \",recall_score(predictions_SGD, Test_Y)*100)\n",
    "print(\"SGD F1 Score -> \",f1_score(predictions_SGD, Test_Y)*100)\n",
    "print(\"SGD Cross Validation Score -> \",cross_val_score(modellsgd, Train_X,Train_Y, cv = 10).mean() * 100)"
   ]
  },
  {
   "cell_type": "code",
   "execution_count": null,
   "metadata": {},
   "outputs": [],
   "source": [
    "#Stochastic Gradient Descent - LR\n",
    "SGD = SGDClassifier(loss=\"log\", max_iter=5)\n",
    "modellsgd = SGD.fit(Train_X,Train_Y)\n",
    "predictions_SGD = modellsgd.predict(Test_X)\n",
    "print(\"SGD Accuracy Score -> \",accuracy_score(predictions_SGD, Test_Y)*100)\n",
    "print(\"SGD Precision Score -> \",precision_score(predictions_SGD, Test_Y)*100)\n",
    "print(\"SGD Recall Score -> \",recall_score(predictions_SGD, Test_Y)*100)\n",
    "print(\"SGD F1 Score -> \",f1_score(predictions_SGD, Test_Y)*100)\n",
    "print(\"SGD Cross Validation Score -> \",cross_val_score(modellsgd, Train_X,Train_Y, cv = 10).mean() * 100)"
   ]
  },
  {
   "cell_type": "code",
   "execution_count": null,
   "metadata": {},
   "outputs": [],
   "source": []
  }
 ],
 "metadata": {
  "kernelspec": {
   "display_name": "Python 3",
   "language": "python",
   "name": "python3"
  },
  "language_info": {
   "codemirror_mode": {
    "name": "ipython",
    "version": 3
   },
   "file_extension": ".py",
   "mimetype": "text/x-python",
   "name": "python",
   "nbconvert_exporter": "python",
   "pygments_lexer": "ipython3",
   "version": "3.6.5"
  }
 },
 "nbformat": 4,
 "nbformat_minor": 2
}
