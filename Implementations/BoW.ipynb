{
 "cells": [
  {
   "cell_type": "code",
   "execution_count": null,
   "metadata": {},
   "outputs": [],
   "source": [
    "# Import all necessary libraries and packages\n",
    "import pandas as pd\n",
    "import numpy as np\n",
    "from nltk.tokenize import word_tokenize\n",
    "from nltk import pos_tag\n",
    "from nltk.corpus import stopwords\n",
    "from nltk.stem import WordNetLemmatizer\n",
    "from sklearn.preprocessing import LabelEncoder\n",
    "from collections import defaultdict\n",
    "from nltk.corpus import wordnet as wn\n",
    "from sklearn.feature_extraction.text import CountVectorizer, TfidfVectorizer, TfidfTransformer\n",
    "from sklearn import model_selection, naive_bayes, svm\n",
    "from sklearn.metrics import accuracy_score, precision_score,f1_score,recall_score\n",
    "from sklearn.linear_model import LogisticRegression, SGDClassifier\n",
    "from sklearn.svm import SVC, LinearSVC\n",
    "from sklearn.ensemble import RandomForestClassifier\n",
    "from sklearn.cross_validation import cross_val_score\n",
    "\n",
    "import nltk\n",
    "nltk.download('stopwords')\n",
    "nltk.download('punkt')\n",
    "nltk.download('wordnet')\n",
    "nltk.download('averaged_perceptron_tagger')\n",
    "\n",
    "import re, itertools\n",
    "import nltk\n",
    "from nltk.corpus import stopwords"
   ]
  },
  {
   "cell_type": "code",
   "execution_count": null,
   "metadata": {},
   "outputs": [],
   "source": [
    "data = pd.read_csv(\"C:/Users/Sid/Downloads/Final-Practicum-Dataset.csv\")"
   ]
  },
  {
   "cell_type": "code",
   "execution_count": null,
   "metadata": {},
   "outputs": [],
   "source": [
    "vectorizer = CountVectorizer(ngram_range = (1,2)) \n",
    "X1 = vectorizer.fit_transform(data['Cleaned Comment'])  \n",
    "scoresbog = (X1.toarray())"
   ]
  },
  {
   "cell_type": "code",
   "execution_count": null,
   "metadata": {},
   "outputs": [],
   "source": [
    "Train_X, Test_X, Train_Y, Test_Y = model_selection.train_test_split(scoresbog,data['Intention'],test_size=0.2)"
   ]
  },
  {
   "cell_type": "code",
   "execution_count": null,
   "metadata": {},
   "outputs": [],
   "source": [
    "#Linear SVC\n",
    "LSVM = LinearSVC()\n",
    "modellsvm = LSVM.fit(Train_X,Train_Y)\n",
    "predictions_SVM = modellsvm.predict(Test_X)\n",
    "print(\"Linear SVM Accuracy Score -> \",accuracy_score(predictions_SVM, Test_Y)*100)\n",
    "print(\"Linear SVM Precision Score -> \",precision_score(predictions_SVM, Test_Y)*100)\n",
    "print(\"Linear SVM Recall Score -> \",recall_score(predictions_SVM, Test_Y)*100)\n",
    "print(\"Linear SVM F1 Score -> \",f1_score(predictions_SVM, Test_Y)*100)\n",
    "print(\"Linear SVM Cross Validation Score -> \",cross_val_score(modellsvm, Train_X,Train_Y, cv = 10).mean() * 100)"
   ]
  },
  {
   "cell_type": "code",
   "execution_count": null,
   "metadata": {},
   "outputs": [],
   "source": [
    "#LOGISTIC REGRESSION\n",
    "lr = LogisticRegression(solver='liblinear',multi_class='ovr')\n",
    "modellr = lr.fit(Train_X, Train_Y)\n",
    "predictions_lr = modellr.predict(Test_X)\n",
    "print(\"Logistic Regression Accuracy Score -> \",accuracy_score(predictions_lr, Test_Y)*100)\n",
    "print(\"Logistic Regression Precision Score -> \",precision_score(predictions_lr, Test_Y)*100)\n",
    "print(\"Logistic Regression Recall Score -> \",recall_score(predictions_lr, Test_Y)*100)\n",
    "print(\"Logistic Regression F1 Score -> \",f1_score(predictions_lr, Test_Y)*100)\n",
    "print(\"Logistic Regression Cross Validation Score -> \",cross_val_score(modellr, Train_X,Train_Y, cv = 10).mean() * 100)"
   ]
  },
  {
   "cell_type": "code",
   "execution_count": null,
   "metadata": {},
   "outputs": [],
   "source": [
    "#SVM\n",
    "SVM = SVC(kernel='linear')\n",
    "modelsvm = SVM.fit(Train_X,Train_Y)\n",
    "predictions_SVM = modelsvm.predict(Test_X)\n",
    "print(\"SVM Accuracy Score -> \",accuracy_score(predictions_SVM, Test_Y)*100)\n",
    "print(\"SVM Precision Score -> \",precision_score(predictions_SVM, Test_Y)*100)\n",
    "print(\"SVM Recall Score -> \",recall_score(predictions_SVM, Test_Y)*100)\n",
    "print(\"SVM F1 Score -> \",f1_score(predictions_SVM, Test_Y)*100)\n",
    "print(\"SVM Cross Validation Score -> \",cross_val_score(modelsvm, Train_X,Train_Y, cv = 10).mean() * 100)"
   ]
  },
  {
   "cell_type": "code",
   "execution_count": null,
   "metadata": {},
   "outputs": [],
   "source": [
    "#RANDOM FOREST\n",
    "rf = RandomForestClassifier(n_estimators=950) #explore parameters\n",
    "modelrf = rf.fit(Train_X, Train_Y)\n",
    "predictions_rf = modelrf.predict(Test_X)\n",
    "print(\"Random Forest Accuracy Score -> \",accuracy_score(predictions_rf, Test_Y)*100)\n",
    "print(\"Random Forest Precision Score -> \",precision_score(predictions_rf, Test_Y)*100)\n",
    "print(\"Random Forest Recall Score -> \",recall_score(predictions_rf, Test_Y)*100)\n",
    "print(\"Random Forest F1 Score -> \",f1_score(predictions_rf, Test_Y)*100)\n",
    "print(\"Random Forest Cross Validation Score -> \",cross_val_score(modelrf, Train_X,Train_Y, cv = 10).mean() * 100)"
   ]
  },
  {
   "cell_type": "code",
   "execution_count": null,
   "metadata": {},
   "outputs": [],
   "source": [
    "#Naive Bayes\n",
    "Naive = naive_bayes.MultinomialNB()\n",
    "modelnb = Naive.fit(Train_X,Train_Y)\n",
    "predictions_NB = modelnb.predict(Test_X)\n",
    "print(\"Naive Bayes Accuracy Score -> \",accuracy_score(predictions_NB, Test_Y)*100)\n",
    "print(\"Naive Bayes Precision Score -> \",precision_score(predictions_NB, Test_Y)*100)\n",
    "print(\"Naive Bayes Recall Score -> \",recall_score(predictions_NB, Test_Y)*100)\n",
    "print(\"Naive Bayes F1 Score -> \",f1_score(predictions_NB, Test_Y)*100)\n",
    "print(\"Naive Bayes Cross Validation Score -> \",cross_val_score(modelnb, Train_X,Train_Y, cv = 10).mean() * 100)"
   ]
  },
  {
   "cell_type": "code",
   "execution_count": null,
   "metadata": {},
   "outputs": [],
   "source": [
    "#Stochastic Gradient Descent - SVM\n",
    "SGD = SGDClassifier(loss=\"hinge\", penalty=\"l2\", max_iter=5)\n",
    "modellsgd = SGD.fit(Train_X,Train_Y)\n",
    "predictions_SGD = modellsgd.predict(Test_X)\n",
    "print(\"SGD Accuracy Score -> \",accuracy_score(predictions_SGD, Test_Y)*100)\n",
    "print(\"SGD Precision Score -> \",precision_score(predictions_SGD, Test_Y)*100)\n",
    "print(\"SGD Recall Score -> \",recall_score(predictions_SGD, Test_Y)*100)\n",
    "print(\"SGD F1 Score -> \",f1_score(predictions_SGD, Test_Y)*100)\n",
    "print(\"SGD Cross Validation Score -> \",cross_val_score(modellsgd, Train_X,Train_Y, cv = 10).mean() * 100)"
   ]
  },
  {
   "cell_type": "code",
   "execution_count": null,
   "metadata": {},
   "outputs": [],
   "source": [
    "#Stochastic Gradient Descent - LR\n",
    "SGD = SGDClassifier(loss=\"log\", penalty=\"l2\", max_iter=5)\n",
    "modellsgd = SGD.fit(Train_X,Train_Y)\n",
    "predictions_SGD = modellsgd.predict(Test_X)\n",
    "print(\"SGD Accuracy Score -> \",accuracy_score(predictions_SGD, Test_Y)*100)\n",
    "print(\"SGD Precision Score -> \",precision_score(predictions_SGD, Test_Y)*100)\n",
    "print(\"SGD Recall Score -> \",recall_score(predictions_SGD, Test_Y)*100)\n",
    "print(\"SGD F1 Score -> \",f1_score(predictions_SGD, Test_Y)*100)\n",
    "print(\"SGD Cross Validation Score -> \",cross_val_score(modellsgd, Train_X,Train_Y, cv = 10).mean() * 100)"
   ]
  },
  {
   "cell_type": "code",
   "execution_count": null,
   "metadata": {},
   "outputs": [],
   "source": []
  }
 ],
 "metadata": {
  "kernelspec": {
   "display_name": "Python 3",
   "language": "python",
   "name": "python3"
  },
  "language_info": {
   "codemirror_mode": {
    "name": "ipython",
    "version": 3
   },
   "file_extension": ".py",
   "mimetype": "text/x-python",
   "name": "python",
   "nbconvert_exporter": "python",
   "pygments_lexer": "ipython3",
   "version": "3.6.5"
  }
 },
 "nbformat": 4,
 "nbformat_minor": 2
}
