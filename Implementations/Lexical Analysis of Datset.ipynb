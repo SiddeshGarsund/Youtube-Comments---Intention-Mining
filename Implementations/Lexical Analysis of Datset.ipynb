{
 "cells": [
  {
   "cell_type": "markdown",
   "metadata": {},
   "source": [
    "# Analyzing the Lexical Richness of the Data"
   ]
  },
  {
   "cell_type": "code",
   "execution_count": 1,
   "metadata": {},
   "outputs": [
    {
     "name": "stdout",
     "output_type": "stream",
     "text": [
      "Requirement already satisfied: lexicalrichness in c:\\users\\sid\\anaconda3\\lib\\site-packages (0.1.3)\n",
      "Requirement already satisfied: scipy>=1.0.0 in c:\\users\\sid\\anaconda3\\lib\\site-packages (from lexicalrichness) (1.1.0)\n"
     ]
    },
    {
     "name": "stderr",
     "output_type": "stream",
     "text": [
      "WARNING: You are using pip version 20.2.1; however, version 20.2.2 is available.\n",
      "You should consider upgrading via the 'c:\\users\\sid\\anaconda3\\python.exe -m pip install --upgrade pip' command.\n"
     ]
    }
   ],
   "source": [
    "# Import all necessary libraries and packages\n",
    "import pandas as pd\n",
    "import numpy as np\n",
    "import statistics\n",
    "import re, itertools\n",
    "!pip install lexicalrichness\n",
    "from lexicalrichness import LexicalRichness"
   ]
  },
  {
   "cell_type": "code",
   "execution_count": 2,
   "metadata": {},
   "outputs": [],
   "source": [
    "data = pd.read_csv(\"C:/Users/Sid/Downloads/Final-Practicum-Dataset.csv\")"
   ]
  },
  {
   "cell_type": "code",
   "execution_count": null,
   "metadata": {},
   "outputs": [],
   "source": [
    "#Counting the number of Intentions and No Intentions in the Dataset.\n",
    "intent = data[data['Intention'] == 1]\n",
    "no = data[data['Intention'] == 0]\n",
    "intent['number_words'] = intent['Comment'].apply(lambda x: len(x.split()))\n",
    "no['number_words'] = no['Comment'].apply(lambda x: len(x.split()))"
   ]
  },
  {
   "cell_type": "code",
   "execution_count": null,
   "metadata": {},
   "outputs": [],
   "source": [
    "#Counting the average number of sentences in each comment.\n",
    "count = []\n",
    "for comment in data['Comment']:\n",
    "    arr = re.split(r'[.!?]+', comment)\n",
    "    count.append(len(arr))\n",
    "average = statistics.mean(count)"
   ]
  },
  {
   "cell_type": "code",
   "execution_count": null,
   "metadata": {},
   "outputs": [],
   "source": [
    "#Counting the total number of sentences.\n",
    "count = []\n",
    "for comment in data['Comment']:\n",
    "    arr = re.split(r'[.!?]+', comment)\n",
    "    count.append(len(arr))\n",
    "average0 = sum(count)"
   ]
  },
  {
   "cell_type": "code",
   "execution_count": 3,
   "metadata": {},
   "outputs": [],
   "source": [
    "#Counting the average length of sentence in comment.\n",
    "count = []\n",
    "for comment in data['Comment']:\n",
    "    arr = re.split(r'[.!?]+', comment)\n",
    "    for sent in arr:\n",
    "        count.append(len(sent.split()))\n",
    "average1 = statistics.mean(count)"
   ]
  },
  {
   "cell_type": "code",
   "execution_count": null,
   "metadata": {},
   "outputs": [],
   "source": [
    "#Tyoe token ratio\n",
    "lexValues = []\n",
    "lexValues2 = []\n",
    "for comment in data['Cleaned Comment']:\n",
    "    lex = LexicalRichness(comment)\n",
    "    lexValues.append(lex.words)\n",
    "    lexValues2.append(lex.terms)\n",
    "average2 = sum(lexValues)\n",
    "average3 = sum(lexValues2)"
   ]
  }
 ],
 "metadata": {
  "kernelspec": {
   "display_name": "Python 3",
   "language": "python",
   "name": "python3"
  },
  "language_info": {
   "codemirror_mode": {
    "name": "ipython",
    "version": 3
   },
   "file_extension": ".py",
   "mimetype": "text/x-python",
   "name": "python",
   "nbconvert_exporter": "python",
   "pygments_lexer": "ipython3",
   "version": "3.6.5"
  }
 },
 "nbformat": 4,
 "nbformat_minor": 2
}
