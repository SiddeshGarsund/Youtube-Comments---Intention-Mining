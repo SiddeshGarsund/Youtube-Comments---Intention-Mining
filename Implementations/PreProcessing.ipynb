{
 "cells": [
  {
   "cell_type": "markdown",
   "metadata": {
    "colab_type": "text",
    "id": "nXobjIZlhsdP"
   },
   "source": [
    "# Generating Final Dataset\n"
   ]
  },
  {
   "cell_type": "code",
   "execution_count": null,
   "metadata": {
    "colab": {},
    "colab_type": "code",
    "id": "zDfdRgl3hpDA"
   },
   "outputs": [],
   "source": [
    "# Import all necessary libraries and packages\n",
    "\n",
    "import pandas as pd\n",
    "import numpy as np\n",
    "from nltk.tokenize import word_tokenize\n",
    "from nltk import pos_tag\n",
    "from nltk.corpus import stopwords\n",
    "from nltk.stem import WordNetLemmatizer\n",
    "from sklearn.preprocessing import LabelEncoder\n",
    "from collections import defaultdict\n",
    "from nltk.corpus import wordnet as wn\n",
    "from sklearn.feature_extraction.text import TfidfVectorizer\n",
    "from sklearn import model_selection, naive_bayes, svm\n",
    "from sklearn.metrics import accuracy_score\n",
    "\n",
    "import nltk\n",
    "nltk.download('stopwords')\n",
    "nltk.download('punkt')\n",
    "nltk.download('wordnet')\n",
    "nltk.download('averaged_perceptron_tagger')\n",
    "\n",
    "import re, itertools\n",
    "import nltk\n",
    "from nltk.corpus import stopwords\n",
    "\n",
    "import sys\n",
    "!{sys.executable} -m pip install twokenize\n",
    "import twokenize\n",
    "\n",
    "!pip install langid\n",
    "import langid\n",
    "\n",
    "!pip install langdetect\n",
    "from langdetect import detect\n",
    "from langdetect import detect_langs"
   ]
  },
  {
   "cell_type": "code",
   "execution_count": null,
   "metadata": {
    "colab": {},
    "colab_type": "code",
    "id": "FFM-cYCLhzh-"
   },
   "outputs": [],
   "source": [
    "# Mount notebook to Google Drive\n",
    "\n",
    "from google.colab import drive\n",
    "import os\n",
    "drive.mount('/content/drive/')"
   ]
  },
  {
   "cell_type": "code",
   "execution_count": null,
   "metadata": {
    "colab": {
     "base_uri": "https://localhost:8080/",
     "height": 279
    },
    "colab_type": "code",
    "id": "9yMmQISjh1Se",
    "outputId": "c5c98781-8eea-47c3-9c8e-b77d74f3b3c7"
   },
   "outputs": [],
   "source": [
    "# Read data into pandas DataFrame\n",
    "Corpus = pd.read_csv(r\"/content/drive/My Drive/All_Match_Before_Preprocess.csv\")\n",
    "Corpus.head()"
   ]
  },
  {
   "cell_type": "code",
   "execution_count": null,
   "metadata": {
    "colab": {
     "base_uri": "https://localhost:8080/",
     "height": 1000
    },
    "colab_type": "code",
    "id": "r4ul2vVjh8Rf",
    "outputId": "5ba6ee81-b4ea-4248-bef2-88d11f6bd004"
   },
   "outputs": [],
   "source": [
    "# Make a copy of the Comment column and add it to the DataFrame.\n",
    "Corpus['Cleaned Comment'] = Corpus['Comment']\n",
    "\n",
    "# Remove leading and trailing characters. Also remove whitespace and tab characters.\n",
    "for idx, val in enumerate(Corpus['Cleaned Comment']):\n",
    "  Corpus['Cleaned Comment'][idx] = val.strip()\n",
    "  Corpus['Cleaned Comment'][idx] = val.replace('\\t',' ')\n",
    "  Corpus['Cleaned Comment'][idx] = val.replace('\\n',' ')\n",
    "\n",
    "# Remove punctuation.\n",
    "for idx, val in enumerate(Corpus['Cleaned Comment']):\n",
    "  Corpus['Cleaned Comment'][idx] = re.sub(r\"[^\\w\\d\\s]\",'',Corpus['Cleaned Comment'][idx])\n",
    "\n",
    "# Standardize words.\n",
    "for idx, val in enumerate(Corpus['Cleaned Comment']):\n",
    "  Corpus['Cleaned Comment'][idx] = ''.join(''.join(s)[:2] for _, s in itertools.groupby(val))\n",
    "\n",
    "# Convert text to lowercase.\n",
    "for idx, val in enumerate(Corpus['Cleaned Comment']):\n",
    "  Corpus['Cleaned Comment'][idx] = val.lower()\n",
    "\n",
    "Corpus.head()"
   ]
  },
  {
   "cell_type": "code",
   "execution_count": null,
   "metadata": {
    "colab": {
     "base_uri": "https://localhost:8080/",
     "height": 666
    },
    "colab_type": "code",
    "id": "eD8agumOibN3",
    "outputId": "01318e36-19d7-44d2-9646-5988075addc5"
   },
   "outputs": [],
   "source": [
    "# Create a copy of the Cleaned Comment column\n",
    "Corpus['Lemmatized Token'] = Corpus['Cleaned Comment']\n",
    "\n",
    "# Load POS-Tags from ark-tweet-nlp tagger into DataFrame\n",
    "tagger = pd.read_csv('/content/drive/My Drive/taggerOutput.txt', sep=\"\\t\", header=None)\n",
    "tagger.columns = [\"Word\", \"Tag\", \"Confidence\"]\n",
    "tagger.shape\n",
    "\n",
    "# Tokenize all comments\n",
    "for idx, val in enumerate(Corpus['Lemmatized Token']):\n",
    "  Corpus['Lemmatized Token'][idx] = twokenize.tokenizeRawTweetText(val)\n",
    "Corpus.head()"
   ]
  },
  {
   "cell_type": "code",
   "execution_count": null,
   "metadata": {
    "colab": {
     "base_uri": "https://localhost:8080/",
     "height": 582
    },
    "colab_type": "code",
    "id": "Yc6S-1zLixen",
    "outputId": "2526cdb7-8904-487e-e089-2b64f19288f4"
   },
   "outputs": [],
   "source": [
    "# Remove stopwords and non-alpha words. Perform word lemmenting.\n",
    "\n",
    "tag_map = defaultdict(lambda : wn.NOUN)\n",
    "tag_map['A'] = wn.ADJ     # This was changed for the new tagger\n",
    "tag_map['V'] = wn.VERB\n",
    "tag_map['R'] = wn.ADV\n",
    "\n",
    "tag_index = 0\n",
    "\n",
    "for index,entry in enumerate(Corpus['Lemmatized Token']):\n",
    "    # Declaring Empty List to store the words that follow the rules for this step\n",
    "    Final_words = []\n",
    "\n",
    "    # Initializing WordNetLemmatizer()\n",
    "    word_Lemmatized = WordNetLemmatizer()\n",
    "\n",
    "    # pos_tag function below will provide the 'tag' i.e if the word is Noun(N) or Verb(V) or something else.\n",
    "    for word, tag in pos_tag(entry):\n",
    "        # Below condition is to check for Stop words and consider only alphabets\n",
    "        if word not in stopwords.words('english') and word.isalpha():\n",
    "            word_tag = tagger[\"Tag\"][tag_index]\n",
    "            if word_tag == \"N\" or word_tag == \"A\" or word_tag == \"V\" or word_tag == \"R\":\n",
    "              word_Final = word_Lemmatized.lemmatize(word,tag_map[word_tag])\n",
    "              Final_words.append(word_Final)\n",
    "        tag_index = tag_index + 1\n",
    "        \n",
    "        \n",
    "    # The final processed set of words for each iteration will be stored in 'text_final'\n",
    "    Corpus.loc[index,'Lemmatized Token'] = str(Final_words)\n",
    "\n",
    "Corpus.head()"
   ]
  },
  {
   "cell_type": "code",
   "execution_count": null,
   "metadata": {
    "colab": {
     "base_uri": "https://localhost:8080/",
     "height": 373
    },
    "colab_type": "code",
    "id": "nUJ1ijPujZ93",
    "outputId": "206805f6-9ed5-4cf7-a4c2-1d7ff0b132af"
   },
   "outputs": [],
   "source": [
    "# Remove any non-english comments from the dataset\n",
    "\n",
    "for idx, val in enumerate(Corpus['Comment']):\n",
    "  line = Corpus['Comment'][idx]\n",
    "  tmp = langid.classify(line)\n",
    "  if tmp[0] != 'en':\n",
    "    if 'buy' not in line and 'Buy' not in line and 'play' not in line and 'Play' not in line and 'download' not in line and 'Download' not in line:\n",
    "      print(line)\n",
    "      Corpus.drop(idx,inplace=True)"
   ]
  },
  {
   "cell_type": "code",
   "execution_count": null,
   "metadata": {
    "colab": {
     "base_uri": "https://localhost:8080/",
     "height": 582
    },
    "colab_type": "code",
    "id": "TYPzfJCEjOxX",
    "outputId": "b1bbfa8d-4816-4a4a-dd65-493314d48b8e"
   },
   "outputs": [],
   "source": [
    "# Remove usernames and replace them with a unique key\n",
    "\n",
    "def clean_dataframe(df, columns):\n",
    "    for col_name in columns:\n",
    "        keys = {categories: i for i,categories in enumerate(df[col_name].unique())}\n",
    "        df[col_name] = df[col_name].apply(lambda x: str(keys[x]).zfill(5))\n",
    "    return df\n",
    "\n",
    "columns = ['Username']\n",
    "\n",
    "Corpus = clean_dataframe(Corpus, columns)\n",
    "Corpus.head()"
   ]
  },
  {
   "cell_type": "code",
   "execution_count": null,
   "metadata": {
    "colab": {
     "base_uri": "https://localhost:8080/",
     "height": 34
    },
    "colab_type": "code",
    "id": "DJF69n45lXAQ",
    "outputId": "1cf8c8fe-d612-4d4b-b38b-487d8fb2df2a"
   },
   "outputs": [],
   "source": [
    "Corpus.shape"
   ]
  },
  {
   "cell_type": "code",
   "execution_count": null,
   "metadata": {
    "colab": {},
    "colab_type": "code",
    "id": "BONozIoGpDKI"
   },
   "outputs": [],
   "source": [
    "os.chdir('/content/drive/My Drive/')\n",
    "Corpus.to_csv('FinalDataset.csv', index=False)"
   ]
  }
 ],
 "metadata": {
  "colab": {
   "collapsed_sections": [],
   "name": "Generating Final Dataset",
   "provenance": [],
   "toc_visible": true
  },
  "kernelspec": {
   "display_name": "Python 3",
   "language": "python",
   "name": "python3"
  },
  "language_info": {
   "codemirror_mode": {
    "name": "ipython",
    "version": 3
   },
   "file_extension": ".py",
   "mimetype": "text/x-python",
   "name": "python",
   "nbconvert_exporter": "python",
   "pygments_lexer": "ipython3",
   "version": "3.6.5"
  }
 },
 "nbformat": 4,
 "nbformat_minor": 1
}
